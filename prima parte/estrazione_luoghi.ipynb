{
 "cells": [
  {
   "cell_type": "code",
   "execution_count": 1,
   "id": "2b2afcbe",
   "metadata": {},
   "outputs": [],
   "source": [
    "import pandas as pd\n",
    "from bs4 import BeautifulSoup\n",
    "import requests\n",
    "import numpy as np"
   ]
  },
  {
   "cell_type": "code",
   "execution_count": 2,
   "id": "1fb232cb",
   "metadata": {},
   "outputs": [
    {
     "data": {
      "text/html": [
       "<div>\n",
       "<style scoped>\n",
       "    .dataframe tbody tr th:only-of-type {\n",
       "        vertical-align: middle;\n",
       "    }\n",
       "\n",
       "    .dataframe tbody tr th {\n",
       "        vertical-align: top;\n",
       "    }\n",
       "\n",
       "    .dataframe thead th {\n",
       "        text-align: right;\n",
       "    }\n",
       "</style>\n",
       "<table border=\"1\" class=\"dataframe\">\n",
       "  <thead>\n",
       "    <tr style=\"text-align: right;\">\n",
       "      <th></th>\n",
       "      <th>url</th>\n",
       "      <th>Citazioni</th>\n",
       "      <th>location</th>\n",
       "    </tr>\n",
       "  </thead>\n",
       "  <tbody>\n",
       "    <tr>\n",
       "      <th>0</th>\n",
       "      <td>conf/3dgis/3dgis2006</td>\n",
       "      <td>86</td>\n",
       "      <td></td>\n",
       "    </tr>\n",
       "    <tr>\n",
       "      <th>1</th>\n",
       "      <td>conf/3dica/3dic1997</td>\n",
       "      <td>42</td>\n",
       "      <td></td>\n",
       "    </tr>\n",
       "    <tr>\n",
       "      <th>2</th>\n",
       "      <td>conf/3dica/3dica1998</td>\n",
       "      <td>75</td>\n",
       "      <td></td>\n",
       "    </tr>\n",
       "    <tr>\n",
       "      <th>3</th>\n",
       "      <td>conf/3dica/3dica1999</td>\n",
       "      <td>50</td>\n",
       "      <td></td>\n",
       "    </tr>\n",
       "    <tr>\n",
       "      <th>4</th>\n",
       "      <td>conf/3dica/3dica2000</td>\n",
       "      <td>94</td>\n",
       "      <td></td>\n",
       "    </tr>\n",
       "    <tr>\n",
       "      <th>...</th>\n",
       "      <td>...</td>\n",
       "      <td>...</td>\n",
       "      <td>...</td>\n",
       "    </tr>\n",
       "    <tr>\n",
       "      <th>21666</th>\n",
       "      <td>conf/xsym/xsym2010</td>\n",
       "      <td>21</td>\n",
       "      <td></td>\n",
       "    </tr>\n",
       "    <tr>\n",
       "      <th>21667</th>\n",
       "      <td>conf/zif/zif2006</td>\n",
       "      <td>93</td>\n",
       "      <td></td>\n",
       "    </tr>\n",
       "    <tr>\n",
       "      <th>21668</th>\n",
       "      <td>series/sapere/sapere5</td>\n",
       "      <td>89</td>\n",
       "      <td></td>\n",
       "    </tr>\n",
       "    <tr>\n",
       "      <th>21669</th>\n",
       "      <td>series/sci/sci471</td>\n",
       "      <td>15</td>\n",
       "      <td></td>\n",
       "    </tr>\n",
       "    <tr>\n",
       "      <th>21670</th>\n",
       "      <td>series/sci/sci578</td>\n",
       "      <td>10</td>\n",
       "      <td></td>\n",
       "    </tr>\n",
       "  </tbody>\n",
       "</table>\n",
       "<p>21671 rows × 3 columns</p>\n",
       "</div>"
      ],
      "text/plain": [
       "                         url  Citazioni location\n",
       "0       conf/3dgis/3dgis2006         86         \n",
       "1        conf/3dica/3dic1997         42         \n",
       "2       conf/3dica/3dica1998         75         \n",
       "3       conf/3dica/3dica1999         50         \n",
       "4       conf/3dica/3dica2000         94         \n",
       "...                      ...        ...      ...\n",
       "21666     conf/xsym/xsym2010         21         \n",
       "21667       conf/zif/zif2006         93         \n",
       "21668  series/sapere/sapere5         89         \n",
       "21669      series/sci/sci471         15         \n",
       "21670      series/sci/sci578         10         \n",
       "\n",
       "[21671 rows x 3 columns]"
      ]
     },
     "execution_count": 2,
     "metadata": {},
     "output_type": "execute_result"
    }
   ],
   "source": [
    "conf = pd.read_csv('open_and_dblp.csv')\n",
    "conf.sort_values(by=\"url\", inplace=True)\n",
    "conf['location']=\"\"\n",
    "conf"
   ]
  },
  {
   "cell_type": "code",
   "execution_count": 35,
   "id": "2f1bd0c7",
   "metadata": {
    "scrolled": true
   },
   "outputs": [],
   "source": [
    "def get_location (url):\n",
    "    link = \"https://dblp.org/db/\" + url\n",
    "    response = requests.get(link)\n",
    "    try:\n",
    "        response.raise_for_status()\n",
    "        soup = BeautifulSoup(response.text, 'html.parser').h1.string\n",
    "        return soup.split(\":\")[1].lstrip('\\n')\n",
    "    except:\n",
    "        return ''\n",
    "\n",
    "conf['location'] = conf['url'].map(get_location)\n",
    "conf.to_csv('conf_luoghi.csv', index= False)\n"
   ]
  },
  {
   "cell_type": "code",
   "execution_count": 37,
   "id": "0e075f2d",
   "metadata": {},
   "outputs": [
    {
     "data": {
      "text/html": [
       "<div>\n",
       "<style scoped>\n",
       "    .dataframe tbody tr th:only-of-type {\n",
       "        vertical-align: middle;\n",
       "    }\n",
       "\n",
       "    .dataframe tbody tr th {\n",
       "        vertical-align: top;\n",
       "    }\n",
       "\n",
       "    .dataframe thead th {\n",
       "        text-align: right;\n",
       "    }\n",
       "</style>\n",
       "<table border=\"1\" class=\"dataframe\">\n",
       "  <thead>\n",
       "    <tr style=\"text-align: right;\">\n",
       "      <th></th>\n",
       "      <th>url</th>\n",
       "      <th>Citazioni</th>\n",
       "      <th>location</th>\n",
       "    </tr>\n",
       "  </thead>\n",
       "  <tbody>\n",
       "    <tr>\n",
       "      <th>0</th>\n",
       "      <td>conf/3dgis/3dgis2006</td>\n",
       "      <td>86</td>\n",
       "      <td>Kuala Lumpur, Malaysia</td>\n",
       "    </tr>\n",
       "    <tr>\n",
       "      <th>1</th>\n",
       "      <td>conf/3dica/3dic1997</td>\n",
       "      <td>42</td>\n",
       "      <td>San Jose, CA, USA</td>\n",
       "    </tr>\n",
       "    <tr>\n",
       "      <th>2</th>\n",
       "      <td>conf/3dica/3dica1998</td>\n",
       "      <td>75</td>\n",
       "      <td>San Jose, CA, USA</td>\n",
       "    </tr>\n",
       "    <tr>\n",
       "      <th>3</th>\n",
       "      <td>conf/3dica/3dica1999</td>\n",
       "      <td>50</td>\n",
       "      <td>San Jose, CA, USA</td>\n",
       "    </tr>\n",
       "    <tr>\n",
       "      <th>4</th>\n",
       "      <td>conf/3dica/3dica2000</td>\n",
       "      <td>94</td>\n",
       "      <td>San Jose, CA, USA</td>\n",
       "    </tr>\n",
       "    <tr>\n",
       "      <th>...</th>\n",
       "      <td>...</td>\n",
       "      <td>...</td>\n",
       "      <td>...</td>\n",
       "    </tr>\n",
       "    <tr>\n",
       "      <th>21666</th>\n",
       "      <td>conf/xsym/xsym2010</td>\n",
       "      <td>21</td>\n",
       "      <td>Singapore</td>\n",
       "    </tr>\n",
       "    <tr>\n",
       "      <th>21667</th>\n",
       "      <td>conf/zif/zif2006</td>\n",
       "      <td>93</td>\n",
       "      <td>Bielefeld, Germany</td>\n",
       "    </tr>\n",
       "    <tr>\n",
       "      <th>21668</th>\n",
       "      <td>series/sapere/sapere5</td>\n",
       "      <td>89</td>\n",
       "      <td>Thessaloniki, Greece</td>\n",
       "    </tr>\n",
       "    <tr>\n",
       "      <th>21669</th>\n",
       "      <td>series/sci/sci471</td>\n",
       "      <td>15</td>\n",
       "      <td>Brest,\\nFrance - Best of Volume</td>\n",
       "    </tr>\n",
       "    <tr>\n",
       "      <th>21670</th>\n",
       "      <td>series/sci/sci578</td>\n",
       "      <td>10</td>\n",
       "      <td></td>\n",
       "    </tr>\n",
       "  </tbody>\n",
       "</table>\n",
       "<p>21671 rows × 3 columns</p>\n",
       "</div>"
      ],
      "text/plain": [
       "                         url  Citazioni                          location\n",
       "0       conf/3dgis/3dgis2006         86            Kuala Lumpur, Malaysia\n",
       "1        conf/3dica/3dic1997         42                 San Jose, CA, USA\n",
       "2       conf/3dica/3dica1998         75                 San Jose, CA, USA\n",
       "3       conf/3dica/3dica1999         50                 San Jose, CA, USA\n",
       "4       conf/3dica/3dica2000         94                 San Jose, CA, USA\n",
       "...                      ...        ...                               ...\n",
       "21666     conf/xsym/xsym2010         21                         Singapore\n",
       "21667       conf/zif/zif2006         93                Bielefeld, Germany\n",
       "21668  series/sapere/sapere5         89              Thessaloniki, Greece\n",
       "21669      series/sci/sci471         15   Brest,\\nFrance - Best of Volume\n",
       "21670      series/sci/sci578         10                                  \n",
       "\n",
       "[21671 rows x 3 columns]"
      ]
     },
     "execution_count": 37,
     "metadata": {},
     "output_type": "execute_result"
    }
   ],
   "source": [
    "conf"
   ]
  },
  {
   "cell_type": "code",
   "execution_count": 3,
   "id": "9b8f3a05",
   "metadata": {},
   "outputs": [],
   "source": [
    "conf = pd.read_csv('conf_luoghi.csv')\n",
    "conf['location'] = conf['location'].str.lstrip(' \\t')\n",
    "conf.sort_values(by=\"location\", inplace=True)\n",
    "conf.to_csv('conf_luoghi.csv', index= False)"
   ]
  },
  {
   "cell_type": "code",
   "execution_count": 2,
   "id": "e0530b6a",
   "metadata": {},
   "outputs": [
    {
     "data": {
      "text/html": [
       "<div>\n",
       "<style scoped>\n",
       "    .dataframe tbody tr th:only-of-type {\n",
       "        vertical-align: middle;\n",
       "    }\n",
       "\n",
       "    .dataframe tbody tr th {\n",
       "        vertical-align: top;\n",
       "    }\n",
       "\n",
       "    .dataframe thead th {\n",
       "        text-align: right;\n",
       "    }\n",
       "</style>\n",
       "<table border=\"1\" class=\"dataframe\">\n",
       "  <thead>\n",
       "    <tr style=\"text-align: right;\">\n",
       "      <th></th>\n",
       "      <th>url</th>\n",
       "      <th>Citazioni</th>\n",
       "      <th>location</th>\n",
       "    </tr>\n",
       "  </thead>\n",
       "  <tbody>\n",
       "    <tr>\n",
       "      <th>0</th>\n",
       "      <td>conf/bnaic/bnaic2018</td>\n",
       "      <td>4</td>\n",
       "      <td>'s-Hertogenbosch, The Netherlands</td>\n",
       "    </tr>\n",
       "    <tr>\n",
       "      <th>1</th>\n",
       "      <td>conf/ida/ida2018</td>\n",
       "      <td>22</td>\n",
       "      <td>'s-Hertogenbosch, The Netherlands</td>\n",
       "    </tr>\n",
       "    <tr>\n",
       "      <th>2</th>\n",
       "      <td>conf/gosler/gosler1995</td>\n",
       "      <td>92</td>\n",
       "      <td>1995</td>\n",
       "    </tr>\n",
       "    <tr>\n",
       "      <th>3</th>\n",
       "      <td>conf/wsna/wsna2003</td>\n",
       "      <td>1162</td>\n",
       "      <td>2003</td>\n",
       "    </tr>\n",
       "    <tr>\n",
       "      <th>4</th>\n",
       "      <td>conf/birthday/csp2004</td>\n",
       "      <td>160</td>\n",
       "      <td>2004</td>\n",
       "    </tr>\n",
       "    <tr>\n",
       "      <th>...</th>\n",
       "      <td>...</td>\n",
       "      <td>...</td>\n",
       "      <td>...</td>\n",
       "    </tr>\n",
       "    <tr>\n",
       "      <th>21666</th>\n",
       "      <td>conf/wopplot/wopplot1989</td>\n",
       "      <td>49</td>\n",
       "      <td>NaN</td>\n",
       "    </tr>\n",
       "    <tr>\n",
       "      <th>21667</th>\n",
       "      <td>conf/wote/lncs6000</td>\n",
       "      <td>144</td>\n",
       "      <td>NaN</td>\n",
       "    </tr>\n",
       "    <tr>\n",
       "      <th>21668</th>\n",
       "      <td>conf/www/www2004a</td>\n",
       "      <td>1953</td>\n",
       "      <td>NaN</td>\n",
       "    </tr>\n",
       "    <tr>\n",
       "      <th>21669</th>\n",
       "      <td>conf/xml/xml2003</td>\n",
       "      <td>68</td>\n",
       "      <td>NaN</td>\n",
       "    </tr>\n",
       "    <tr>\n",
       "      <th>21670</th>\n",
       "      <td>series/sci/sci578</td>\n",
       "      <td>10</td>\n",
       "      <td>NaN</td>\n",
       "    </tr>\n",
       "  </tbody>\n",
       "</table>\n",
       "<p>21671 rows × 3 columns</p>\n",
       "</div>"
      ],
      "text/plain": [
       "                            url  Citazioni                           location\n",
       "0          conf/bnaic/bnaic2018          4  's-Hertogenbosch, The Netherlands\n",
       "1              conf/ida/ida2018         22  's-Hertogenbosch, The Netherlands\n",
       "2        conf/gosler/gosler1995         92                               1995\n",
       "3            conf/wsna/wsna2003       1162                               2003\n",
       "4         conf/birthday/csp2004        160                               2004\n",
       "...                         ...        ...                                ...\n",
       "21666  conf/wopplot/wopplot1989         49                                NaN\n",
       "21667        conf/wote/lncs6000        144                                NaN\n",
       "21668         conf/www/www2004a       1953                                NaN\n",
       "21669          conf/xml/xml2003         68                                NaN\n",
       "21670         series/sci/sci578         10                                NaN\n",
       "\n",
       "[21671 rows x 3 columns]"
      ]
     },
     "execution_count": 2,
     "metadata": {},
     "output_type": "execute_result"
    }
   ],
   "source": [
    "conf = pd.read_csv('conf_luoghi.csv')\n",
    "conf"
   ]
  },
  {
   "cell_type": "markdown",
   "id": "1f709bb9",
   "metadata": {},
   "source": [
    "# DA QUI INZIA LA PARTE DI PULIZIA DEI LUOGHI, NON CONCLUSA"
   ]
  },
  {
   "cell_type": "code",
   "execution_count": 5,
   "id": "8d7ae6a7",
   "metadata": {},
   "outputs": [
    {
     "data": {
      "text/plain": [
       "' 1.\\n    2. trattino\\n    3. anni\\n    4. / \\n    5. ()\\n    '"
      ]
     },
     "execution_count": 5,
     "metadata": {},
     "output_type": "execute_result"
    }
   ],
   "source": [
    "# come elimino dopo un certo carattere ? espressioni regolari\n",
    "# come elimino tra un carattere  e l'altro ? (parentesi). sempre espr regolari ? \n",
    "#  elimino con replace('') \n",
    "\n",
    "# per lo slash : doppio if ? prima vedo se c'è e poi vedo se non c'è una virgola. è la stessa\n",
    "# cosa del trattino !!\n",
    "\"\"\" 1.\n",
    "    2. trattino\n",
    "    3. anni\n",
    "    4. / \n",
    "    5. ()\n",
    "    \"\"\""
   ]
  },
  {
   "cell_type": "code",
   "execution_count": 57,
   "id": "c0e73d60",
   "metadata": {},
   "outputs": [
    {
     "ename": "SyntaxError",
     "evalue": "invalid syntax (1632200084.py, line 11)",
     "output_type": "error",
     "traceback": [
      "\u001b[0;36m  File \u001b[0;32m\"/tmp/ipykernel_8571/1632200084.py\"\u001b[0;36m, line \u001b[0;32m11\u001b[0m\n\u001b[0;31m    print(conf['positions'].map(lambda x : int(x) if x !='NaN' else pass))\u001b[0m\n\u001b[0m                                                                    ^\u001b[0m\n\u001b[0;31mSyntaxError\u001b[0m\u001b[0;31m:\u001b[0m invalid syntax\n"
     ]
    }
   ],
   "source": [
    "#provo a fare tutto in una funzione\n",
    "\"\"\" devo controllare che:\n",
    "    1. ci sia un  - /  : (find)\n",
    "         se c'è virgola dopo il segno allora lascia, \n",
    "       elimina tutto quello che c'è dopo\n",
    "       ho bisogno della posizione che mi restituisce find perchè da li devo  controllare se c'è la virgola\"\"\"\n",
    "\n",
    "def clean (conf, x):\n",
    "    #creo una colonna con la posizione in cui si trova il segno -\n",
    "    conf['positions'] = conf['location'].str.find(x)\n",
    "    \n",
    "    print(conf['positions'].map(lambda x : int(x)))\n",
    "    b = 'oo'\n",
    "    b.find(x)\n",
    "    #np.where((conf['positions'] > -1 & conf['location'][conf['positions']:].find(',') == -1), conf['location'], conf['location'][:conf['positions']] )\n",
    "    #print(place)\n",
    "    \n",
    "    \n",
    "clean(conf, '-')\n",
    "#conf['location'] = conf['location'].map(clean)                                                  \n",
    "#conf['location'] = conf['location'].map(lambda x : x.find('-')>-1)\n",
    "#places= conf['location'][conf['location'].str.find('-') > -1 ]"
   ]
  },
  {
   "cell_type": "code",
   "execution_count": 37,
   "id": "c62312d7",
   "metadata": {},
   "outputs": [
    {
     "name": "stdout",
     "output_type": "stream",
     "text": [
      "1296\n"
     ]
    }
   ],
   "source": [
    "print(places.size)"
   ]
  },
  {
   "cell_type": "code",
   "execution_count": 24,
   "id": "fcfc1b03",
   "metadata": {
    "scrolled": true
   },
   "outputs": [
    {
     "name": "stdout",
     "output_type": "stream",
     "text": [
      "487            Amsterdam, The Netherlands - BPMDS / EMMSAD\n",
      "488             Amsterdam, The Netherlands - CIAO! / EOMAS\n",
      "818                             Athens, Greece - DPM/SETOP\n",
      "2936                       Bridgeport, CT, USA - EIAT/IETA\n",
      "5318                 Dubrovnik/Cavtat, Croatia - Workshops\n",
      "5487                                 Egham, UK - DPM/SETOP\n",
      "5907                   Frankfurt/Main, Germany - Workshops\n",
      "6142                       Gdańsk, Poland - BPMDS / EMMSAD\n",
      "6975                    Hammamet, Tunisia - BPMDS / EMMSAD\n",
      "9368                           Leuven, Belgium - DPM/SETOP\n",
      "9694     Lisbon, Portugal / Madrid, Spain / Seville, Sp...\n",
      "9750                  Ljubljana, Slovenia - BPMDS / EMMSAD\n",
      "9967                           London, UK - BPMDS / EMMSAD\n",
      "10687                       Marcq-en-Baroeul/Lille, France\n",
      "11326                  Montpellier, France - CIAO! / EOMAS\n",
      "13900                              Pisa, Italy - DPM/SETOP\n",
      "14985                  Reno/Tahoe, Nevada, USA - Companion\n",
      "14986                    Reno/Tahoe, Nevada, USA - PSI EtA\n",
      "14987                Reno/Tahoe, Nevada, USA - Proceedings\n",
      "15535                       Saint-Malo, France - DPM/SETOP\n",
      "17932                   Stockholm, Sweden - BPMDS / EMMSAD\n",
      "18554                Thessaloniki, Greece - BPMDS / EMMSAD\n",
      "19551                     Valencia, Spain - BPMDS / EMMSAD\n",
      "20713                     Wroclaw, Poland - DPM/SETOP/QASA\n",
      "Name: location, dtype: object\n"
     ]
    }
   ],
   "source": [
    "print(conf['location'][(conf['location'].str.find('/') > -1) & (conf['location'].str.find('-') > -1) ])"
   ]
  },
  {
   "cell_type": "code",
   "execution_count": 17,
   "id": "d5074cbc",
   "metadata": {
    "scrolled": true
   },
   "outputs": [
    {
     "name": "stdout",
     "output_type": "stream",
     "text": [
      "487      Amsterdam, The Netherlands - BPMDS / EMMSAD\n",
      "488       Amsterdam, The Netherlands - CIAO! / EOMAS\n",
      "693      Asilomar State Beach/Pacific Grove, CA, USA\n",
      "695                  Asilomar/Pacific Grove, CA, USA\n",
      "818                       Athens, Greece - DPM/SETOP\n",
      "                            ...                     \n",
      "20329                        Waidhofen/Ybbs, Austria\n",
      "20351                                 Walldorf/Baden\n",
      "20652                                   Wingst/Stade\n",
      "20713               Wroclaw, Poland - DPM/SETOP/QASA\n",
      "20893               Xi'an, China / San José, CA, USA\n",
      "Name: location, Length: 181, dtype: object\n"
     ]
    }
   ],
   "source": [
    "print(conf['location'][conf['location'].str.find('/') > -1])"
   ]
  },
  {
   "cell_type": "code",
   "execution_count": 18,
   "id": "95950f89",
   "metadata": {
    "scrolled": true
   },
   "outputs": [
    {
     "name": "stdout",
     "output_type": "stream",
     "text": [
      "0        's-Hertogenbosch, The Netherlands\n",
      "1        's-Hertogenbosch, The Netherlands\n",
      "58       Aachen, Germany - Selected Papers\n",
      "59             Aachen, Germany - Workshops\n",
      "84            Aalborg, Denmark - Workshops\n",
      "                       ...                \n",
      "21184       Zurich, Switzerland - Volume 4\n",
      "21185       Zurich, Switzerland - Volume 4\n",
      "21186       Zurich, Switzerland - Volume 5\n",
      "21187       Zurich, Switzerland - Volume 6\n",
      "21188       Zurich, Switzerland - Volume 7\n",
      "Name: location, Length: 1296, dtype: object\n"
     ]
    }
   ],
   "source": [
    "print(conf['location'][conf['location'].str.find('-') > -1])"
   ]
  },
  {
   "cell_type": "code",
   "execution_count": 19,
   "id": "fb59fcf6",
   "metadata": {},
   "outputs": [
    {
     "name": "stdout",
     "output_type": "stream",
     "text": [
      "2055    Bergen, Norway + related Dagstuhl Workshop\n",
      "Name: location, dtype: object\n"
     ]
    }
   ],
   "source": [
    "print(conf['location'][conf['location'].str.find('+') > -1])"
   ]
  }
 ],
 "metadata": {
  "kernelspec": {
   "display_name": "Python 3 (ipykernel)",
   "language": "python",
   "name": "python3"
  },
  "language_info": {
   "codemirror_mode": {
    "name": "ipython",
    "version": 3
   },
   "file_extension": ".py",
   "mimetype": "text/x-python",
   "name": "python",
   "nbconvert_exporter": "python",
   "pygments_lexer": "ipython3",
   "version": "3.8.10"
  }
 },
 "nbformat": 4,
 "nbformat_minor": 5
}
