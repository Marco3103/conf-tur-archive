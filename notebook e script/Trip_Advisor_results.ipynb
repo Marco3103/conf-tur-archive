{
 "cells": [
  {
   "cell_type": "code",
   "execution_count": 1,
   "id": "eeb47ff8",
   "metadata": {},
   "outputs": [
    {
     "name": "stderr",
     "output_type": "stream",
     "text": [
      "/usr/lib/python3/dist-packages/requests/__init__.py:89: RequestsDependencyWarning: urllib3 (1.26.9) or chardet (3.0.4) doesn't match a supported version!\n",
      "  warnings.warn(\"urllib3 ({}) or chardet ({}) doesn't match a supported \"\n"
     ]
    }
   ],
   "source": [
    "import pandas as pd\n",
    "from bs4 import BeautifulSoup\n",
    "import numpy as np\n",
    "import requests\n",
    "import re\n",
    "\n",
    "from selenium import webdriver\n",
    "from selenium.webdriver.firefox.service import Service as FirefoxService\n",
    "from webdriver_manager.firefox import GeckoDriverManager\n",
    "from selenium.webdriver.common.by import By\n",
    "from time import sleep"
   ]
  },
  {
   "cell_type": "code",
   "execution_count": 4,
   "id": "651c3505",
   "metadata": {},
   "outputs": [
    {
     "data": {
      "text/html": [
       "<div>\n",
       "<style scoped>\n",
       "    .dataframe tbody tr th:only-of-type {\n",
       "        vertical-align: middle;\n",
       "    }\n",
       "\n",
       "    .dataframe tbody tr th {\n",
       "        vertical-align: top;\n",
       "    }\n",
       "\n",
       "    .dataframe thead th {\n",
       "        text-align: right;\n",
       "    }\n",
       "</style>\n",
       "<table border=\"1\" class=\"dataframe\">\n",
       "  <thead>\n",
       "    <tr style=\"text-align: right;\">\n",
       "      <th></th>\n",
       "      <th>citta</th>\n",
       "      <th>risultati</th>\n",
       "    </tr>\n",
       "  </thead>\n",
       "  <tbody>\n",
       "    <tr>\n",
       "      <th>0</th>\n",
       "      <td>Austin</td>\n",
       "      <td>NaN</td>\n",
       "    </tr>\n",
       "    <tr>\n",
       "      <th>1</th>\n",
       "      <td>Wrocław</td>\n",
       "      <td>NaN</td>\n",
       "    </tr>\n",
       "    <tr>\n",
       "      <th>2</th>\n",
       "      <td>Innsbruck</td>\n",
       "      <td>NaN</td>\n",
       "    </tr>\n",
       "    <tr>\n",
       "      <th>3</th>\n",
       "      <td>Villefranche-sur-Saône</td>\n",
       "      <td>NaN</td>\n",
       "    </tr>\n",
       "    <tr>\n",
       "      <th>4</th>\n",
       "      <td>Zakopane</td>\n",
       "      <td>NaN</td>\n",
       "    </tr>\n",
       "    <tr>\n",
       "      <th>...</th>\n",
       "      <td>...</td>\n",
       "      <td>...</td>\n",
       "    </tr>\n",
       "    <tr>\n",
       "      <th>2398</th>\n",
       "      <td>Veneto</td>\n",
       "      <td>NaN</td>\n",
       "    </tr>\n",
       "    <tr>\n",
       "      <th>2399</th>\n",
       "      <td>Bastia</td>\n",
       "      <td>NaN</td>\n",
       "    </tr>\n",
       "    <tr>\n",
       "      <th>2400</th>\n",
       "      <td>Laramie</td>\n",
       "      <td>NaN</td>\n",
       "    </tr>\n",
       "    <tr>\n",
       "      <th>2401</th>\n",
       "      <td>Longyearbyen</td>\n",
       "      <td>NaN</td>\n",
       "    </tr>\n",
       "    <tr>\n",
       "      <th>2402</th>\n",
       "      <td>Shijiazhuang</td>\n",
       "      <td>NaN</td>\n",
       "    </tr>\n",
       "  </tbody>\n",
       "</table>\n",
       "<p>2403 rows × 2 columns</p>\n",
       "</div>"
      ],
      "text/plain": [
       "                       citta  risultati\n",
       "0                     Austin        NaN\n",
       "1                    Wrocław        NaN\n",
       "2                  Innsbruck        NaN\n",
       "3     Villefranche-sur-Saône        NaN\n",
       "4                   Zakopane        NaN\n",
       "...                      ...        ...\n",
       "2398                  Veneto        NaN\n",
       "2399                  Bastia        NaN\n",
       "2400                 Laramie        NaN\n",
       "2401            Longyearbyen        NaN\n",
       "2402           Shijiazhuang         NaN\n",
       "\n",
       "[2403 rows x 2 columns]"
      ]
     },
     "execution_count": 4,
     "metadata": {},
     "output_type": "execute_result"
    }
   ],
   "source": [
    "# importo dal df con i risultati Booking, in modo da avere già l'elenco delle città\n",
    "TA_results = pd.read_csv('booking_results.csv')\n",
    "TA_results['risultati'] = np.nan\n",
    "\n",
    "TA_results"
   ]
  },
  {
   "cell_type": "code",
   "execution_count": 11,
   "id": "6059e3fb",
   "metadata": {},
   "outputs": [
    {
     "name": "stdout",
     "output_type": "stream",
     "text": [
      "\n"
     ]
    },
    {
     "name": "stderr",
     "output_type": "stream",
     "text": [
      "[WDM] - ====== WebDriver manager ======\n",
      "[WDM] - Current firefox version is 99.0\n",
      "[WDM] - Get LATEST geckodriver version for 99.0 firefox\n",
      "[WDM] - Getting latest mozilla release info for v0.31.0\n",
      "[WDM] - About to download new driver from https://github.com/mozilla/geckodriver/releases/download/v0.31.0/geckodriver-v0.31.0-linux64.tar.gz\n",
      "[WDM] - Driver has been saved in cache [/home/marco/.wdm/drivers/geckodriver/linux64/v0.31.0]\n"
     ]
    }
   ],
   "source": [
    "driver = webdriver.Firefox(service=FirefoxService(GeckoDriverManager().install()))"
   ]
  },
  {
   "cell_type": "code",
   "execution_count": 35,
   "id": "2a8c3fd7",
   "metadata": {
    "scrolled": false
   },
   "outputs": [],
   "source": [
    "driver.get('https://www.tripadvisor.com/Attractions')\n",
    "sleep(2)\n",
    "# clicco sul bottone dei cookies\n",
    "driver.find_element(By.ID, 'onetrust-accept-btn-handler').click()"
   ]
  },
  {
   "cell_type": "code",
   "execution_count": 33,
   "id": "5c14cc9c",
   "metadata": {},
   "outputs": [],
   "source": [
    "# scraping dei risultati della ricerca su TriAdvisor, per ogni città\n",
    "\n",
    "def start_soup (link):\n",
    "    response = requests.get(link, headers=headers)\n",
    "    response.raise_for_status()\n",
    "    soup = BeautifulSoup(response.text, 'html.parser')\n",
    "    return soup\n",
    "\n",
    "\n",
    "\"\"\" Restituisce un id che Tripadvisor assegna ad ogni città. Mi servirà per accedere alla\n",
    "    pagina contenente il numero di attrazioni della città. \"\"\"\n",
    "\n",
    "def search_in_text_box (city):\n",
    "    driver.find_element(By.NAME, 'q').send_keys(city) # digita il nome della città nella textbox\n",
    "    sleep(2)\n",
    "    # controllo che siano usciti dei suggerimenti di ricerca. Se non ci sono, passo alla città successiva\n",
    "    suggestions = re.findall('<a class=\"GzJDZ w z _S _F Wc Wh Q B- _G\"', driver.page_source)\n",
    "    if len(suggestions) ==1:\n",
    "        return ''\n",
    "    match = re.findall('-g\\d+', driver.page_source)\n",
    "    driver.find_element(By.NAME, 'q').clear()\n",
    "    return match[0]\n",
    "\n",
    "\n",
    "def scraping (df):\n",
    "    for x in df['citta']:\n",
    "        city_id = search_in_text_box(x)\n",
    "        base_link = f\"https://www.tripadvisor.com/Attractions\" + city_id + \"-Activities-a_allAttractions.true\"\n",
    "\n",
    "        try:\n",
    "            results = start_soup(base_link)\n",
    "            number_of_attractions = results.find('div', class_='Ci').text.split()[-1]\n",
    "            # inserisco il numero nel dataframe, in corrispondenza della città\n",
    "            df['risultati'][df['citta'] == x] = number_of_attractions\n",
    "        except AttributeError:\n",
    "            try:\n",
    "                number_of_attractions = results.find('div', class_='aTSjG').text.split()[0]\n",
    "                df['risultati'][df['citta'] == x] = number_of_attractions\n",
    "            except:\n",
    "                df['risultati'][df['citta'] == x] = np.nan\n",
    "        except Exception as e:\n",
    "            df['risultati'][df['citta'] == x] = np.nan\n",
    "    \n",
    "    return df\n",
    "       \n",
    "    \n",
    "# senza l'header mi restituisce la pagina di accettazione cookie, quindi non riesco a estrarre il numero di risultati\n",
    "headers = {\n",
    "    'User-agent':  'Mozilla/5.0 (X11; Linux x86_64; rv:99.0) Gecko/20100101 Firefox/99.0' }\n",
    "\n",
    "TA_results = scraping(TA_results)"
   ]
  },
  {
   "cell_type": "code",
   "execution_count": 36,
   "id": "357b5cae",
   "metadata": {},
   "outputs": [],
   "source": [
    "TA_results.to_csv('tripadvisor_results.csv', index=False)"
   ]
  },
  {
   "cell_type": "code",
   "execution_count": 35,
   "id": "d1f87bef",
   "metadata": {},
   "outputs": [
    {
     "data": {
      "text/plain": [
       "28"
      ]
     },
     "execution_count": 35,
     "metadata": {},
     "output_type": "execute_result"
    }
   ],
   "source": [
    "# vedo quanti valori non sono riuscito ad estrarre\n",
    "print(len(TA_results[TA_results['risultati'].isna()]))"
   ]
  },
  {
   "cell_type": "code",
   "execution_count": null,
   "id": "80e4df53",
   "metadata": {},
   "outputs": [],
   "source": [
    "\"\"\"Altre osservazioni sui risultati:\n",
    "\n",
    "    1. Scorrendo la lista, noto che ci sono 6 luoghi che hanno esattamente 259.406 attrazioni,\n",
    "    numero troppo grande. Andando a cercare manualmente questi luoghi, vedo che la ricerca non\n",
    "    restituisce i suggerimenti, da cui poi normalmente estrarrei l'id della città.\n",
    "    Correggo questo bug nella funzione search_in_text_box, andando a controllare se ci sono\n",
    "    suggerimenti di ricerca.\n",
    "    \n",
    "    2. alcuni luoghi hanno un numero elevato di attrazioni, perchè non sono città\n",
    "       o province, bensì sono degli Stati: sono poco più di 20\n",
    "\"\"\""
   ]
  }
 ],
 "metadata": {
  "kernelspec": {
   "display_name": "Python 3 (ipykernel)",
   "language": "python",
   "name": "python3"
  },
  "language_info": {
   "codemirror_mode": {
    "name": "ipython",
    "version": 3
   },
   "file_extension": ".py",
   "mimetype": "text/x-python",
   "name": "python",
   "nbconvert_exporter": "python",
   "pygments_lexer": "ipython3",
   "version": "3.8.10"
  }
 },
 "nbformat": 4,
 "nbformat_minor": 5
}
